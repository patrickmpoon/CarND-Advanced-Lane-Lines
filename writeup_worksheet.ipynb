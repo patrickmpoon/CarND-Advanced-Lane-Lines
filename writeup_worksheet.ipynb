{
 "cells": [
  {
   "cell_type": "code",
   "execution_count": null,
   "metadata": {
    "collapsed": true,
    "deletable": true,
    "editable": true
   },
   "outputs": [],
   "source": [
    "%matplotlib inline\n"
   ]
  },
  {
   "cell_type": "code",
   "execution_count": null,
   "metadata": {
    "collapsed": false,
    "deletable": true,
    "editable": true
   },
   "outputs": [],
   "source": [
    "import pickle\n",
    "\n",
    "\n",
    "def get_calibration_data():\n",
    "    # Read in the saved camera matrix and distortion coefficients\n",
    "    # These are the arrays you calculated using cv2.calibrateCamera()\n",
    "    return pickle.load( open( \"./output_images/calibration.p\", \"rb\" ) )\n"
   ]
  },
  {
   "cell_type": "markdown",
   "metadata": {
    "deletable": true,
    "editable": true
   },
   "source": [
    "## Writeup Template\n",
    "### You can use this file as a template for your writeup if you want to submit it as a markdown file, but feel free to use some other method and submit a pdf if you prefer.\n",
    "\n",
    "---\n",
    "\n",
    "**Advanced Lane Finding Project**\n",
    "\n",
    "The goals / steps of this project are the following:\n",
    "\n",
    "* Compute the camera calibration matrix and distortion coefficients given a set of chessboard images.\n",
    "* Apply a distortion correction to raw images.\n",
    "* Use color transforms, gradients, etc., to create a thresholded binary image.\n",
    "* Apply a perspective transform to rectify binary image (\"birds-eye view\").\n",
    "* Detect lane pixels and fit to find the lane boundary.\n",
    "* Determine the curvature of the lane and vehicle position with respect to center.\n",
    "* Warp the detected lane boundaries back onto the original image.\n",
    "* Output visual display of the lane boundaries and numerical estimation of lane curvature and vehicle position.\n",
    "\n",
    "[//]: # (Image References)\n",
    "\n",
    "[image1]: ./examples/undistort_output.png \"Undistorted\"\n",
    "[image2]: ./test_images/test1.jpg \"Road Transformed\"\n",
    "[image3]: ./examples/binary_combo_example.jpg \"Binary Example\"\n",
    "[image4]: ./examples/warped_straight_lines.jpg \"Warp Example\"\n",
    "[image5]: ./examples/color_fit_lines.jpg \"Fit Visual\"\n",
    "[image6]: ./examples/example_output.jpg \"Output\"\n",
    "[video1]: ./project_video.mp4 \"Video\"\n",
    "\n",
    "## [Rubric](https://review.udacity.com/#!/rubrics/571/view) Points\n",
    "### Here I will consider the rubric points individually and describe how I addressed each point in my implementation.  \n",
    "\n",
    "---\n",
    "### Writeup / README\n",
    "\n",
    "#### 1. Provide a Writeup / README that includes all the rubric points and how you addressed each one.  You can submit your writeup as markdown or pdf.  [Here](https://github.com/udacity/CarND-Advanced-Lane-Lines/blob/master/writeup_template.md) is a template writeup for this project you can use as a guide and a starting point.  \n",
    "\n",
    "You're reading it!"
   ]
  },
  {
   "cell_type": "markdown",
   "metadata": {
    "deletable": true,
    "editable": true
   },
   "source": [
    "### Camera Calibration\n",
    "\n",
    "#### 1. Briefly state how you computed the camera matrix and distortion coefficients. Provide an example of a distortion corrected calibration image.\n",
    "\n",
    "The code for this step is contained in the first code cell of the IPython notebook located in \"./examples/example.ipynb\" (or in lines # through # of the file called `some_file.py`).  \n",
    "\n",
    "I start by preparing \"object points\", which will be the (x, y, z) coordinates of the chessboard corners in the world. Here I am assuming the chessboard is fixed on the (x, y) plane at z=0, such that the object points are the same for each calibration image.  Thus, `objp` is just a replicated array of coordinates, and `objpoints` will be appended with a copy of it every time I successfully detect all chessboard corners in a test image.  `imgpoints` will be appended with the (x, y) pixel position of each of the corners in the image plane with each successful chessboard detection.  \n",
    "\n",
    "I then used the output `objpoints` and `imgpoints` to compute the camera calibration and distortion coefficients using the `cv2.calibrateCamera()` function.  I applied this distortion correction to the test image using the `cv2.undistort()` function and obtained this result: \n",
    "\n",
    "[//]: # (Image References)\n",
    "\n",
    "[image1]: ./examples/undistort_output.png \"Undistorted\"\n",
    "\n",
    "![alt text][image1]"
   ]
  },
  {
   "cell_type": "code",
   "execution_count": null,
   "metadata": {
    "collapsed": false,
    "deletable": true,
    "editable": true
   },
   "outputs": [],
   "source": [
    "# %load calibrate_camera.py\n",
    "import cv2\n",
    "from glob import iglob\n",
    "import matplotlib.pyplot as plt\n",
    "import numpy as np\n",
    "import pickle\n",
    "\n",
    "\n",
    "def get_corners(image, pts_per_row, pts_per_column, flags=None):\n",
    "    return cv2.findChessboardCorners(image, (pts_per_row, pts_per_column), flags)\n",
    "\n",
    "\n",
    "def draw_image_corners(image, pts_per_row, pts_per_column, corners, ret):\n",
    "    cornered = cv2.drawChessboardCorners(image, (pts_per_row, pts_per_column), corners, ret)\n",
    "    return cornered\n",
    "\n",
    "\n",
    "def get_calibration_pts(img_files_regex, pts_per_row, pts_per_column, num_channels):\n",
    "    # prepare object points, like (0,0,0), (1,0,0), (2,0,0) ....,(6,5,0)\n",
    "    objp = np.zeros((pts_per_column * pts_per_row, 3), np.float32)\n",
    "    objp[:,:2] = np.mgrid[0:pts_per_row, 0:pts_per_column].T.reshape(-1, 2)\n",
    "\n",
    "    # Arrays to store object points and image points from all the images.\n",
    "    objpoints = [] # 3d points in real world space\n",
    "    imgpoints = [] # 2d points in image plane.\n",
    "\n",
    "    # Make a list of calibration images\n",
    "    images = iglob(img_files_regex)\n",
    "\n",
    "    # Step through the list and search for chessboard corners\n",
    "    for idx, filename in enumerate(images, start=1):\n",
    "        img = cv2.imread(filename)\n",
    "        gray = cv2.cvtColor(img, cv2.COLOR_BGR2GRAY)\n",
    "\n",
    "        # Find the chessboard corners\n",
    "        ret, corners = get_corners(gray, pts_per_row, pts_per_column)\n",
    "\n",
    "        # If found, add object points, image points\n",
    "        if ret == True:\n",
    "            objpoints.append(objp)\n",
    "            imgpoints.append(corners)\n",
    "\n",
    "            # Draw and display the corners\n",
    "            img = draw_image_corners(img, pts_per_row, pts_per_column, corners, ret)\n",
    "            write_name = './test_out/corners_found'+str(idx)+'.jpg'\n",
    "            cv2.imwrite(write_name, img)\n",
    "\n",
    "    return objpoints, imgpoints\n",
    "\n",
    "\n",
    "def undistort_image(image, matrix, distortion_coefficients):\n",
    "    return cv2.undistort(image, matrix, distortion_coefficients, None, matrix)\n",
    "\n",
    "\n",
    "if __name__ == '__main__':\n",
    "    img_files_regex = './camera_cal/calibration*.jpg'\n",
    "    pts_per_row = 9\n",
    "    pts_per_column = 6\n",
    "    num_channels = 3\n",
    "\n",
    "    objpoints, imgpoints = get_calibration_pts(img_files_regex, pts_per_row, pts_per_column, num_channels)\n",
    "\n",
    "    # Test undistortion on an image\n",
    "    img = cv2.imread('./camera_cal/calibration3.jpg')\n",
    "    img = cv2.cvtColor(img, cv2.COLOR_BGR2RGB)\n",
    "    img_size = (img.shape[1], img.shape[0])\n",
    "\n",
    "    # Do camera calibration given object points and image points\n",
    "    ret, matrix, distortion_coefficients, rvecs, tvecs = cv2.calibrateCamera(objpoints, imgpoints, img_size, None, None)\n",
    "\n",
    "    # Save the camera calibration results\n",
    "    dist_pickle = {}\n",
    "    dist_pickle[\"mtx\"] = matrix\n",
    "    dist_pickle[\"dist\"] = distortion_coefficients\n",
    "    pickle.dump( dist_pickle, open( \"./output_images/calibration.p\", \"wb\" ) )\n",
    "\n",
    "    # Undistort image and save results to file\n",
    "    undistorted = undistort_image(img, matrix, distortion_coefficients)\n",
    "    undistorted_gray = cv2.cvtColor(undistorted, cv2.COLOR_BGR2GRAY)\n",
    "    ret, corners = get_corners(undistorted_gray, pts_per_row, pts_per_column)\n",
    "    undistorted = draw_image_corners(undistorted, pts_per_row, pts_per_column, corners, ret)\n",
    "    cv2.imwrite('test_out/test_undist.jpg', undistorted)\n",
    "\n",
    "    # Visualize distortion correction\n",
    "    f, (ax1, ax2) = plt.subplots(1, 2, figsize=(20,10))\n",
    "    ax1.imshow(img)\n",
    "    ax1.set_title('Original Image', fontsize=30)\n",
    "    ax2.imshow(undistorted)\n",
    "    ax2.set_title('Undistorted Image', fontsize=30)\n"
   ]
  },
  {
   "cell_type": "markdown",
   "metadata": {
    "deletable": true,
    "editable": true
   },
   "source": [
    "### Pipeline (single images)\n",
    "\n",
    "#### 1. Provide an example of a distortion-corrected image.\n",
    "To demonstrate this step, I will describe how I apply the distortion correction to one of the test images like this one:\n",
    "![alt text][image2]"
   ]
  },
  {
   "cell_type": "markdown",
   "metadata": {
    "deletable": true,
    "editable": true
   },
   "source": [
    "#### 2. Describe how (and identify where in your code) you used color transforms, gradients or other methods to create a thresholded binary image.  Provide an example of a binary image result.\n",
    "I used a combination of color and gradient thresholds to generate a binary image (thresholding steps at lines # through # in `another_file.py`).  Here's an example of my output for this step.  (note: this is not actually from one of the test images)\n",
    "\n",
    "![alt text][image3]"
   ]
  },
  {
   "cell_type": "markdown",
   "metadata": {},
   "source": [
    "## Sobel Operator"
   ]
  },
  {
   "cell_type": "code",
   "execution_count": null,
   "metadata": {
    "collapsed": false,
    "deletable": true,
    "editable": true
   },
   "outputs": [],
   "source": [
    "# %load thresholds.py\n",
    "import cv2\n",
    "import matplotlib.pyplot as plt\n",
    "import numpy as np\n",
    "from calibrate_camera import get_calibration_data, undistort_image\n",
    "from ipywidgets import interact\n",
    "\n",
    "\n",
    "# Define a function that takes an image, gradient orientation,\n",
    "# and threshold min / max values.\n",
    "def abs_sobel_thresh(img, orient='x', thresh_min=0, thresh_max=255):\n",
    "    # Convert to grayscale\n",
    "    gray = cv2.cvtColor(img, cv2.COLOR_RGB2GRAY)\n",
    "    # Apply x or y gradient with the OpenCV Sobel() function\n",
    "    # and take the absolute value\n",
    "    if orient == 'x':\n",
    "        abs_sobel = np.absolute(cv2.Sobel(gray, cv2.CV_64F, 1, 0))\n",
    "    if orient == 'y':\n",
    "        abs_sobel = np.absolute(cv2.Sobel(gray, cv2.CV_64F, 0, 1))\n",
    "    # Rescale back to 8 bit integer\n",
    "    scaled_sobel = np.uint8(255 * abs_sobel / np.max(abs_sobel))\n",
    "    # Create a copy and apply the threshold\n",
    "    binary_output = np.zeros_like(scaled_sobel)\n",
    "    # Here I'm using inclusive (>=, <=) thresholds, but exclusive is ok too\n",
    "    binary_output[(scaled_sobel >= thresh_min) & (scaled_sobel <= thresh_max)] = 1\n",
    "\n",
    "    # Return the result\n",
    "    return binary_output\n",
    "\n",
    "\n",
    "# Define a function to return the magnitude of the gradient\n",
    "# for a given sobel kernel size and threshold values\n",
    "def mag_thresh(img, sobel_kernel=3, mag_thresh=(0, 255)):\n",
    "    # Convert to grayscale\n",
    "    gray = cv2.cvtColor(img, cv2.COLOR_RGB2GRAY)\n",
    "    # Take both Sobel x and y gradients\n",
    "    sobelx = cv2.Sobel(gray, cv2.CV_64F, 1, 0, ksize=sobel_kernel)\n",
    "    sobely = cv2.Sobel(gray, cv2.CV_64F, 0, 1, ksize=sobel_kernel)\n",
    "    # Calculate the gradient magnitude\n",
    "    gradmag = np.sqrt(sobelx ** 2 + sobely ** 2)\n",
    "    # Rescale to 8 bit\n",
    "    scale_factor = np.max(gradmag) / 255\n",
    "    gradmag = (gradmag / scale_factor).astype(np.uint8)\n",
    "    # Create a binary image of ones where threshold is met, zeros otherwise\n",
    "    binary_output = np.zeros_like(gradmag)\n",
    "    binary_output[(gradmag >= mag_thresh[0]) & (gradmag <= mag_thresh[1])] = 1\n",
    "\n",
    "    # Return the binary image\n",
    "    return binary_output\n",
    "\n",
    "\n",
    "def test_sobel_thresh(min=0, max=0, orient='x'):\n",
    "    threshed = abs_sobel_thresh(img, orient, min, max)\n",
    "    print('min: {}  max: {}'.format(min, max))\n",
    "    #     plt.imshow(threshed, cmap='gray', interpolation='nearest', aspect='auto')\n",
    "    # Plot the result\n",
    "    f, (ax1, ax2, ax3) = plt.subplots(1, 3, figsize=(24, 9))\n",
    "    f.tight_layout()\n",
    "    ax1.imshow(orig_img)\n",
    "    ax1.set_title('Original Image', fontsize=24)\n",
    "    ax2.imshow(img)\n",
    "    ax2.set_title('Original Image [Undistorted]', fontsize=24)\n",
    "    ax3.imshow(threshed, cmap='gray')\n",
    "    ax3.set_title('Thresholded Gradient [Sobel]', fontsize=24)\n",
    "    plt.subplots_adjust(left=0., right=1, top=0.9, bottom=0.)\n",
    "\n",
    "\n",
    "def set_orient(p):\n",
    "    global a, b, o\n",
    "    o = p\n",
    "    test_sobel_thresh(a, b, o)\n",
    "\n",
    "\n",
    "def set_min(n):\n",
    "    global a, b, o\n",
    "    a = n\n",
    "    test_sobel_thresh(a, b, o)\n",
    "\n",
    "\n",
    "def set_max(x):\n",
    "    global a, b, o\n",
    "    b = x\n",
    "    test_sobel_thresh(a, b, o)\n",
    "\n",
    "\n",
    "calibration = get_calibration_data()\n",
    "matrix = calibration['mtx']\n",
    "distortion_coefficients = calibration['dist']\n",
    "orig_img = cv2.cvtColor(cv2.imread('./test_images/signs_vehicles_xygrad.png'), cv2.COLOR_BGR2RGB)\n",
    "img = undistort_image(orig_img, matrix, distortion_coefficients)\n",
    "\n",
    "#Test Sobel threshold\n",
    "a = None\n",
    "b = None\n",
    "o = 'x'\n",
    "\n",
    "interact(set_orient, p='x')\n",
    "interact(set_min, n=(0, 255))\n",
    "interact(set_max, x=(0, 255))\n",
    "\n",
    "# # Test Magnitude Threshold\n",
    "# mag_binary = mag_thresh(img, sobel_kernel=3, mag_thresh=(30, 100))\n",
    "# # Plot the result\n",
    "# f, (ax1, ax2) = plt.subplots(1, 2, figsize=(24, 9))\n",
    "# f.tight_layout()\n",
    "# ax1.imshow(img)\n",
    "# ax1.set_title('Original Image', fontsize=50)\n",
    "# ax2.imshow(mag_binary, cmap='gray')\n",
    "# ax2.set_title('Thresholded Magnitude', fontsize=50)\n",
    "# plt.subplots_adjust(left=0., right=1, top=0.9, bottom=0.)\n"
   ]
  },
  {
   "cell_type": "markdown",
   "metadata": {},
   "source": [
    "## Magnitude of the Gradient"
   ]
  },
  {
   "cell_type": "code",
   "execution_count": null,
   "metadata": {
    "collapsed": false,
    "deletable": true,
    "editable": true
   },
   "outputs": [],
   "source": [
    "# %load thresholds.py\n",
    "import cv2\n",
    "import matplotlib.pyplot as plt\n",
    "import numpy as np\n",
    "from ipywidgets import interact\n",
    "\n",
    "\n",
    "# Define a function that takes an image, gradient orientation,\n",
    "# and threshold min / max values.\n",
    "def abs_sobel_thresh(img, orient='x', thresh_min=0, thresh_max=255):\n",
    "    # Convert to grayscale\n",
    "    gray = cv2.cvtColor(img, cv2.COLOR_RGB2GRAY)\n",
    "    # Apply x or y gradient with the OpenCV Sobel() function\n",
    "    # and take the absolute value\n",
    "    if orient == 'x':\n",
    "        abs_sobel = np.absolute(cv2.Sobel(gray, cv2.CV_64F, 1, 0))\n",
    "    if orient == 'y':\n",
    "        abs_sobel = np.absolute(cv2.Sobel(gray, cv2.CV_64F, 0, 1))\n",
    "    # Rescale back to 8 bit integer\n",
    "    scaled_sobel = np.uint8(255 * abs_sobel / np.max(abs_sobel))\n",
    "    # Create a copy and apply the threshold\n",
    "    binary_output = np.zeros_like(scaled_sobel)\n",
    "    # Here I'm using inclusive (>=, <=) thresholds, but exclusive is ok too\n",
    "    binary_output[(scaled_sobel >= thresh_min) & (scaled_sobel <= thresh_max)] = 1\n",
    "\n",
    "    # Return the result\n",
    "    return binary_output\n",
    "\n",
    "\n",
    "# Define a function to return the magnitude of the gradient\n",
    "# for a given sobel kernel size and threshold values\n",
    "def mag_thresh(img, sobel_kernel=3, mag_thresh=(0, 255)):\n",
    "    # Convert to grayscale\n",
    "    gray = cv2.cvtColor(img, cv2.COLOR_RGB2GRAY)\n",
    "    # Take both Sobel x and y gradients\n",
    "    sobelx = cv2.Sobel(gray, cv2.CV_64F, 1, 0, ksize=sobel_kernel)\n",
    "    sobely = cv2.Sobel(gray, cv2.CV_64F, 0, 1, ksize=sobel_kernel)\n",
    "    # Calculate the gradient magnitude\n",
    "    gradmag = np.sqrt(sobelx ** 2 + sobely ** 2)\n",
    "    # Rescale to 8 bit\n",
    "    scale_factor = np.max(gradmag) / 255\n",
    "    gradmag = (gradmag / scale_factor).astype(np.uint8)\n",
    "    # Create a binary image of ones where threshold is met, zeros otherwise\n",
    "    binary_output = np.zeros_like(gradmag)\n",
    "    binary_output[(gradmag >= mag_thresh[0]) & (gradmag <= mag_thresh[1])] = 1\n",
    "\n",
    "    # Return the binary image\n",
    "    return binary_output\n",
    "\n",
    "\n",
    "def test_sobel_thresh(min=0, max=0, orient='x'):\n",
    "    threshed = abs_sobel_thresh(img, orient, min, max)\n",
    "    print('min: {}  max: {}'.format(min, max))\n",
    "    #     plt.imshow(threshed, cmap='gray', interpolation='nearest', aspect='auto')\n",
    "    # Plot the result\n",
    "    f, (ax1, ax2) = plt.subplots(1, 2, figsize=(24, 9))\n",
    "    f.tight_layout()\n",
    "    ax1.imshow(img)\n",
    "    ax1.set_title('Original Image', fontsize=50)\n",
    "    ax2.imshow(threshed, cmap='gray')\n",
    "    ax2.set_title('Thresholded Gradient [Sobel]', fontsize=50)\n",
    "    plt.subplots_adjust(left=0., right=1, top=0.9, bottom=0.)\n",
    "\n",
    "\n",
    "def set_orient(p):\n",
    "    global a, b, o\n",
    "    o = p\n",
    "    test_sobel_thresh(a, b, o)\n",
    "\n",
    "\n",
    "def set_min(n):\n",
    "    global a, b, o\n",
    "    a = n\n",
    "    test_sobel_thresh(a, b, o)\n",
    "\n",
    "\n",
    "def set_max(x):\n",
    "    global a, b, o\n",
    "    b = x\n",
    "    test_sobel_thresh(a, b, o)\n",
    "\n",
    "\n",
    "img = cv2.cvtColor(cv2.imread('./test_images/signs_vehicles_xygrad.png'), cv2.COLOR_BGR2RGB)\n",
    "\n",
    "# Test Sobel threshold\n",
    "# a = None\n",
    "# b = None\n",
    "# o = 'x'\n",
    "#\n",
    "# interact(set_orient, p='x')\n",
    "# interact(set_min, n=(0, 255))\n",
    "# interact(set_max, x=(0, 255))\n",
    "\n",
    "# Test Magnitude Threshold\n",
    "mag_binary = mag_thresh(img, sobel_kernel=3, mag_thresh=(30, 100))\n",
    "# Plot the result\n",
    "f, (ax1, ax2) = plt.subplots(1, 2, figsize=(24, 9))\n",
    "f.tight_layout()\n",
    "ax1.imshow(img)\n",
    "ax1.set_title('Original Image', fontsize=50)\n",
    "ax2.imshow(mag_binary, cmap='gray')\n",
    "ax2.set_title('Thresholded Magnitude', fontsize=50)\n",
    "plt.subplots_adjust(left=0., right=1, top=0.9, bottom=0.)\n"
   ]
  },
  {
   "cell_type": "markdown",
   "metadata": {},
   "source": [
    "### Direction of the Gradient"
   ]
  },
  {
   "cell_type": "code",
   "execution_count": null,
   "metadata": {
    "collapsed": false
   },
   "outputs": [],
   "source": [
    "import numpy as np\n",
    "import cv2\n",
    "import matplotlib.pyplot as plt\n",
    "import matplotlib.image as mpimg\n",
    "import pickle\n",
    "\n",
    "\n",
    "# Read in an image\n",
    "image = mpimg.imread('./test_images/signs_vehicles_xygrad.png')\n",
    "\n",
    "# Define a function that applies Sobel x and y, \n",
    "# then computes the direction of the gradient\n",
    "# and applies a threshold.\n",
    "def dir_threshold(img, sobel_kernel=3, thresh=(0, np.pi/2)):\n",
    "    # Grayscale\n",
    "    gray = cv2.cvtColor(img, cv2.COLOR_RGB2GRAY)\n",
    "    # Calculate the x and y gradients\n",
    "    sobelx = cv2.Sobel(gray, cv2.CV_64F, 1, 0, ksize=sobel_kernel)\n",
    "    sobely = cv2.Sobel(gray, cv2.CV_64F, 0, 1, ksize=sobel_kernel)\n",
    "    # Take the absolute value of the gradient direction, \n",
    "    # apply a threshold, and create a binary image result\n",
    "    absgraddir = np.arctan2(np.absolute(sobely), np.absolute(sobelx))\n",
    "    binary_output =  np.zeros_like(absgraddir)\n",
    "    binary_output[(absgraddir >= thresh[0]) & (absgraddir <= thresh[1])] = 1\n",
    "\n",
    "    # Return the binary image\n",
    "    return binary_output    \n",
    "\n",
    "# Run the function\n",
    "dir_binary = dir_threshold(image, sobel_kernel=15, thresh=(0.7, 1.3))\n",
    "# Plot the result\n",
    "f, (ax1, ax2) = plt.subplots(1, 2, figsize=(24, 9))\n",
    "f.tight_layout()\n",
    "ax1.imshow(image)\n",
    "ax1.set_title('Original Image', fontsize=50)\n",
    "ax2.imshow(dir_binary, cmap='gray')\n",
    "ax2.set_title('Thresholded Grad. Dir.', fontsize=50)\n",
    "plt.subplots_adjust(left=0., right=1, top=0.9, bottom=0.)"
   ]
  },
  {
   "cell_type": "markdown",
   "metadata": {},
   "source": [
    "## Color Threshold"
   ]
  },
  {
   "cell_type": "code",
   "execution_count": null,
   "metadata": {
    "collapsed": false
   },
   "outputs": [],
   "source": [
    "from calibrate_camera import get_calibration_data, undistort_image\n",
    "\n",
    "import numpy as np\n",
    "import cv2\n",
    "import matplotlib.pyplot as plt\n",
    "import matplotlib.image as mpimg\n",
    "\n",
    "import numpy as np\n",
    "import cv2\n",
    "import matplotlib.pyplot as plt\n",
    "import matplotlib.image as mpimg\n",
    "\n",
    "\n",
    "image = mpimg.imread('./test_images/test5.jpg')\n",
    "\n",
    "# Edit this function to create your own pipeline.\n",
    "def pipeline(img, s_thresh=(170, 255), sx_thresh=(20, 100)):\n",
    "    img = np.copy(img)\n",
    "    # Convert to HSV color space and separate the V channel\n",
    "    hsv = cv2.cvtColor(img, cv2.COLOR_RGB2HLS).astype(np.float)\n",
    "    l_channel = hsv[:,:,1]\n",
    "    s_channel = hsv[:,:,2]\n",
    "    # Sobel x\n",
    "    sobelx = cv2.Sobel(l_channel, cv2.CV_64F, 1, 0) # Take the derivative in x\n",
    "    abs_sobelx = np.absolute(sobelx) # Absolute x derivative to accentuate lines away from horizontal\n",
    "    scaled_sobel = np.uint8(255*abs_sobelx/np.max(abs_sobelx))\n",
    "    \n",
    "    # Threshold x gradient\n",
    "    sxbinary = np.zeros_like(scaled_sobel)\n",
    "    sxbinary[(scaled_sobel >= sx_thresh[0]) & (scaled_sobel <= sx_thresh[1])] = 1\n",
    "    \n",
    "    # Threshold color channel\n",
    "    s_binary = np.zeros_like(s_channel)\n",
    "    s_binary[(s_channel >= s_thresh[0]) & (s_channel <= s_thresh[1])] = 1\n",
    "    # Stack each channel\n",
    "    # Note color_binary[:, :, 0] is all 0s, effectively an all black image. It might\n",
    "    # be beneficial to replace this channel with something else.\n",
    "    color_binary = np.dstack(( np.zeros_like(sxbinary), sxbinary, s_binary))\n",
    "    return color_binary\n",
    "    \n",
    "result = pipeline(image)\n",
    "\n",
    "# Plot the result\n",
    "f, (ax1, ax2) = plt.subplots(1, 2, figsize=(24, 9))\n",
    "f.tight_layout()\n",
    "\n",
    "ax1.imshow(image)\n",
    "ax1.set_title('Original Image', fontsize=40)\n",
    "\n",
    "ax2.imshow(result)\n",
    "ax2.set_title('Pipeline Result', fontsize=40)\n",
    "plt.subplots_adjust(left=0., right=1, top=0.9, bottom=0.)\n",
    "\n",
    "\n",
    "# image = mpimg.imread('./test_images/test5.jpg')\n",
    "# hls = cv2.cvtColor(image, cv2.COLOR_RGB2HLS)\n",
    "# s_channel = hls[:,:,2]\n",
    "# thresh = (180, 255)\n",
    "# binput = s_channel\n",
    "# gray = cv2.cvtColor(image, cv2.COLOR_RGB2GRAY)\n",
    "# binary = np.zeros_like(binput)\n",
    "# binary[(binput > thresh[0]) & (binput <= thresh[1])] = 1\n",
    "\n",
    "# plt.figure(figsize=(15, 25))\n",
    "\n",
    "# plt.subplot(211)\n",
    "# plt.axis('off')\n",
    "# plt.title('Original')\n",
    "# plt.imshow(image)\n",
    "\n",
    "# plt.subplot(212)\n",
    "# plt.axis('off')\n",
    "# plt.title('S binary')\n",
    "# plt.imshow(binary, cmap='gray');\n",
    "\n"
   ]
  },
  {
   "cell_type": "code",
   "execution_count": null,
   "metadata": {
    "collapsed": false,
    "scrolled": false
   },
   "outputs": [],
   "source": [
    "import math\n",
    "import matplotlib.pyplot as plt\n",
    "import matplotlib.image as mpimg\n",
    "from glob import glob\n",
    "\n",
    "top = 450\n",
    "bottom = 670\n",
    "\n",
    "p1 = (580, top)\n",
    "p2 = (250, bottom)\n",
    "p3 = (700, top)\n",
    "p4 = (1060, bottom)\n",
    "\n",
    "images = glob('./test_images/*.jpg')\n",
    "\n",
    "COLUMNS = 1\n",
    "rows = math.ceil(len(images) / COLUMNS)\n",
    "plt.figure(figsize=(75, 75))\n",
    "\n",
    "\n",
    "def display_img(image, idx, item_count, title):\n",
    "    cv2.line(image, p1, p2, [255, 0, 0], 2)\n",
    "    cv2.line(image, p3, p4, [255, 0, 0], 2)\n",
    "    cv2.line(image, p1, p3, [255, 0, 0], 2)\n",
    "    cv2.line(image, p2, p4, [255, 0, 0], 2)\n",
    "\n",
    "    plt.subplot(rows, COLUMNS, idx)\n",
    "    plt.plot(p1[0], p1[1], 'X')\n",
    "    plt.plot(p2[0], p2[1], 'X')\n",
    "    plt.plot(p3[0], p3[1], 'X')\n",
    "    plt.plot(p4[0], p4[1], 'X')\n",
    "    plt.title(title)\n",
    "    plt.imshow(image)\n",
    "\n",
    "\n",
    "# Step through the list and search for chessboard corners\n",
    "for idx, filename in enumerate(images, 1):\n",
    "    image = mpimg.imread(filename)\n",
    "    display_img(image, idx, len(images), filename.split('/')[-1])\n"
   ]
  },
  {
   "cell_type": "markdown",
   "metadata": {
    "deletable": true,
    "editable": true
   },
   "source": [
    "#### 3. Describe how (and identify where in your code) you performed a perspective transform and provide an example of a transformed image.\n",
    "\n",
    "The code for my perspective transform includes a function called `warper()`, which appears in lines 1 through 8 in the file `example.py` (output_images/examples/example.py) (or, for example, in the 3rd code cell of the IPython notebook).  The `warper()` function takes as inputs an image (`img`), as well as source (`src`) and destination (`dst`) points.  I chose the hardcode the source and destination points in the following manner:\n",
    "\n",
    "```\n",
    "src = np.float32(\n",
    "    [[(img_size[0] / 2) - 55, img_size[1] / 2 + 100],\n",
    "    [((img_size[0] / 6) - 10), img_size[1]],\n",
    "    [(img_size[0] * 5 / 6) + 60, img_size[1]],\n",
    "    [(img_size[0] / 2 + 55), img_size[1] / 2 + 100]])\n",
    "dst = np.float32(\n",
    "    [[(img_size[0] / 4), 0],\n",
    "    [(img_size[0] / 4), img_size[1]],\n",
    "    [(img_size[0] * 3 / 4), img_size[1]],\n",
    "    [(img_size[0] * 3 / 4), 0]])\n",
    "\n",
    "```\n",
    "This resulted in the following source and destination points:\n",
    "\n",
    "| Source        | Destination   | \n",
    "|:-------------:|:-------------:| \n",
    "| 585, 460      | 320, 0        | \n",
    "| 203, 720      | 320, 720      |\n",
    "| 1127, 720     | 960, 720      |\n",
    "| 695, 460      | 960, 0        |\n",
    "\n",
    "I verified that my perspective transform was working as expected by drawing the `src` and `dst` points onto a test image and its warped counterpart to verify that the lines appear parallel in the warped image.\n",
    "\n",
    "![alt text][image4]"
   ]
  },
  {
   "cell_type": "code",
   "execution_count": null,
   "metadata": {
    "collapsed": false,
    "deletable": true,
    "editable": true
   },
   "outputs": [],
   "source": [
    "# %load warper.py\n",
    "import pickle\n",
    "import cv2\n",
    "import numpy as np\n",
    "import matplotlib.pyplot as plt\n",
    "import matplotlib.image as mpimg\n",
    "\n",
    "# Read in the saved camera matrix and distortion coefficients\n",
    "# These are the arrays you calculated using cv2.calibrateCamera()\n",
    "dist_pickle = pickle.load( open( \"./output_images/calibration.p\", \"rb\" ) )\n",
    "mtx = dist_pickle[\"mtx\"]\n",
    "dist = dist_pickle[\"dist\"]\n",
    "\n",
    "# Read in an image\n",
    "img = cv2.imread('./camera_cal/calibration13.jpg')\n",
    "img = cv2.cvtColor(img, cv2.COLOR_BGR2RGB)\n",
    "nx = 9 # the number of inside corners in x\n",
    "ny = 6 # the number of inside corners in y\n",
    "\n",
    "# MODIFY THIS FUNCTION TO GENERATE OUTPUT\n",
    "# THAT LOOKS LIKE THE IMAGE ABOVE\n",
    "def corners_unwarp(img, nx, ny, mtx, dist):\n",
    "    # Use the OpenCV undistort() function to remove distortion\n",
    "    undist = cv2.undistort(img, mtx, dist, None, mtx)\n",
    "    # Convert undistorted image to grayscale\n",
    "    gray = cv2.cvtColor(undist, cv2.COLOR_RGB2GRAY)\n",
    "    # Search for corners in the grayscaled image\n",
    "    ret, corners = cv2.findChessboardCorners(gray, (nx, ny), None)\n",
    "\n",
    "    if ret == True:\n",
    "        # If we found corners, draw them! (just for fun)\n",
    "        cv2.drawChessboardCorners(undist, (nx, ny), corners, ret)\n",
    "        # Choose offset from image corners to plot detected corners\n",
    "        # This should be chosen to present the result at the proper aspect ratio\n",
    "        # My choice of 100 pixels is not exact, but close enough for our purpose here\n",
    "        offset = 175 # offset for dst points\n",
    "        # Grab the image shape\n",
    "        img_size = (gray.shape[1], gray.shape[0])\n",
    "        print('img_size = {}'.format(img_size))\n",
    "\n",
    "        # Grab the outer four detected corners\n",
    "        src = np.float32([ [405.5, 319], [650.5, 114.], [725.80072021, 330.18017578], [450.37277222, 517.24407959] ])\n",
    "        # For destination points, I'm arbitrarily choosing some points to be\n",
    "        # a nice fit for displaying our warped result\n",
    "        # again, not exact, but close enough for our purposes\n",
    "\n",
    "        dst = np.float32([[offset, offset], [img_size[0]-offset, offset],\n",
    "                                     [img_size[0]-offset, img_size[1]-offset],\n",
    "                                     [offset, img_size[1]-offset]])\n",
    "\n",
    "        # Given src and dst points, calculate the perspective transform matrix\n",
    "        M = cv2.getPerspectiveTransform(src, dst)\n",
    "        # Warp the image using OpenCV warpPerspective()\n",
    "        warped = cv2.warpPerspective(undist, M, img_size)\n",
    "\n",
    "    # Return the resulting image and matrix\n",
    "    return warped, M\n",
    "\n",
    "top_down, perspective_M = corners_unwarp(img, nx, ny, mtx, dist)\n",
    "cv2.imwrite('test_out/test_top_down.jpg', top_down)\n",
    "\n",
    "f, (ax1, ax2) = plt.subplots(1, 2, figsize=(24, 9))\n",
    "f.tight_layout()\n",
    "ax1.imshow(img)\n",
    "ax1.set_title('Original Image', fontsize=36)\n",
    "ax2.imshow(top_down)\n",
    "ax2.set_title('Undistorted and Warped Image', fontsize=36)\n",
    "plt.subplots_adjust(left=0., right=1, top=0.9, bottom=0.)\n",
    "\n",
    "\n"
   ]
  },
  {
   "cell_type": "code",
   "execution_count": null,
   "metadata": {
    "collapsed": false,
    "deletable": true,
    "editable": true
   },
   "outputs": [],
   "source": [
    "import cv2\n",
    "from glob import iglob\n",
    "import matplotlib.pyplot as plt\n",
    "import matplotlib.image as mpimg\n",
    "import numpy as np\n",
    "import pickle\n",
    "\n",
    "%matplotlib inline\n",
    "\n",
    "\n",
    "img = mpimg.imread('./camera_cal/calibration13.jpg')\n",
    "plt.imshow(img)\n",
    "plt.plot(405.5, 319., '*')\n",
    "plt.plot(650.5, 114, '*')\n",
    "plt.plot(725.80072021, 330.18017578, '*')\n",
    "plt.plot(450.37277222, 517.24407959, '*')\n"
   ]
  },
  {
   "cell_type": "code",
   "execution_count": null,
   "metadata": {
    "collapsed": false
   },
   "outputs": [],
   "source": [
    "from calibrate_camera import get_calibration_data, undistort_image\n",
    "\n",
    "\n",
    "LINE_THICKNESS = 4\n",
    "LINE_COLOR = [255, 0, 0]\n",
    "TOP = 450\n",
    "BOTTOM = 670\n",
    "\n",
    "# Source points:\n",
    "left_top = (592, TOP)\n",
    "left_bottom = (260, BOTTOM)\n",
    "right_top = (686, TOP)\n",
    "right_bottom = (1050, BOTTOM)\n",
    "\n",
    "src = np.float32([\n",
    "    [left_top[0], left_top[1]],\n",
    "    [right_top[0], right_top[1]],\n",
    "    [right_bottom[0], right_bottom[1]],\n",
    "    [left_bottom[0], left_bottom[1]]\n",
    "])\n",
    "\n",
    "dst_left = 350\n",
    "dst_right = 930\n",
    "dst = np.float32([\n",
    "    [dst_left, 0],\n",
    "    [dst_right, 0],\n",
    "    [dst_right, 720],\n",
    "    [dst_left, 720]\n",
    "])\n",
    "\n",
    "calibration = get_calibration_data()\n",
    "matrix = calibration['mtx']\n",
    "distortion_coefficients = calibration['dist']\n",
    "orig_img = cv2.cvtColor(cv2.imread('./test_images/straight_lines1.jpg'), cv2.COLOR_BGR2RGB)\n",
    "img = undistort_image(orig_img, matrix, distortion_coefficients)\n",
    "img_size = (img.shape[1], img.shape[0])\n",
    "\n",
    "img_copy = np.copy(img)\n",
    "cv2.line(img_copy, left_bottom, left_top, LINE_COLOR, LINE_THICKNESS)\n",
    "cv2.line(img_copy, right_bottom, right_top, LINE_COLOR, LINE_THICKNESS)\n",
    "cv2.line(img_copy, left_top, right_top, LINE_COLOR, LINE_THICKNESS)\n",
    "cv2.line(img_copy, left_bottom, right_bottom, LINE_COLOR, LINE_THICKNESS)\n",
    "\n",
    "matrix = cv2.getPerspectiveTransform(src, dst)\n",
    "warped = cv2.warpPerspective(img, matrix, img_size)\n",
    "cv2.line(warped, (dst_left, 0), (dst_left, 720), LINE_COLOR, LINE_THICKNESS)\n",
    "cv2.line(warped, (dst_right, 0), (dst_right, 720), LINE_COLOR, LINE_THICKNESS)\n",
    "\n",
    "plt.figure(figsize=(24, 15))\n",
    "# f, (ax1, ax2) = plt.subplots(1, 2, figsize=(24, 9))\n",
    "# plt.tight_layout()\n",
    "plt.subplot(221)\n",
    "plt.title('Original Image', fontsize=24)\n",
    "plt.imshow(orig_img)\n",
    "\n",
    "plt.subplot(222)\n",
    "plt.title('Undistorted', fontsize=24)\n",
    "plt.imshow(img)\n",
    "# ax3.imshow(threshed, cmap='gray')\n",
    "# ax3.set_title('Thresholded Gradient [Sobel]', fontsize=24)\n",
    "# plt.subplots_adjust(left=0., right=1, top=0.9, bottom=0.)\n",
    "\n",
    "plt.subplot(223)\n",
    "plt.title('Region of Interest', fontsize=24)\n",
    "plt.imshow(img_copy)\n",
    "\n",
    "plt.subplot(224)\n",
    "plt.title('Warped', fontsize=24)\n",
    "plt.imshow(warped)\n"
   ]
  },
  {
   "cell_type": "markdown",
   "metadata": {
    "deletable": true,
    "editable": true
   },
   "source": [
    "#### 4. Describe how (and identify where in your code) you identified lane-line pixels and fit their positions with a polynomial?\n",
    "\n",
    "Then I did some other stuff and fit my lane lines with a 2nd order polynomial kinda like this:\n",
    "\n",
    "![alt text][image5]\n",
    "\n",
    "#### 5. Describe how (and identify where in your code) you calculated the radius of curvature of the lane and the position of the vehicle with respect to center.\n",
    "\n",
    "I did this in lines # through # in my code in `my_other_file.py`\n",
    "\n",
    "#### 6. Provide an example image of your result plotted back down onto the road such that the lane area is identified clearly.\n",
    "\n",
    "I implemented this step in lines # through # in my code in `yet_another_file.py` in the function `map_lane()`.  Here is an example of my result on a test image:\n",
    "\n",
    "![alt text][image6]\n",
    "\n",
    "---"
   ]
  },
  {
   "cell_type": "markdown",
   "metadata": {
    "deletable": true,
    "editable": true
   },
   "source": [
    "### Pipeline (video)\n",
    "\n",
    "#### 1. Provide a link to your final video output.  Your pipeline should perform reasonably well on the entire project video (wobbly lines are ok but no catastrophic failures that would cause the car to drive off the road!).\n",
    "\n",
    "Here's a [link to my video result](./project_video.mp4)\n",
    "\n",
    "---"
   ]
  },
  {
   "cell_type": "markdown",
   "metadata": {
    "deletable": true,
    "editable": true
   },
   "source": [
    "### Discussion\n",
    "\n",
    "#### 1. Briefly discuss any problems / issues you faced in your implementation of this project.  Where will your pipeline likely fail?  What could you do to make it more robust?\n",
    "\n",
    "Here I'll talk about the approach I took, what techniques I used, what worked and why, where the pipeline might fail and how I might improve it if I were going to pursue this project further.  "
   ]
  }
 ],
 "metadata": {
  "kernelspec": {
   "display_name": "Python 3",
   "language": "python",
   "name": "python3"
  },
  "language_info": {
   "codemirror_mode": {
    "name": "ipython",
    "version": 3
   },
   "file_extension": ".py",
   "mimetype": "text/x-python",
   "name": "python",
   "nbconvert_exporter": "python",
   "pygments_lexer": "ipython3",
   "version": "3.5.2"
  },
  "widgets": {
   "state": {
    "07fe8a09787d4648890b298918a1f90e": {
     "views": []
    },
    "0f1d313c4bfa41ab8c12086fde7da34c": {
     "views": []
    },
    "1c1caebb2193430cbcef3d6a27943e14": {
     "views": []
    },
    "240cb12b5ff84b46bb1c71994f57b7dc": {
     "views": []
    },
    "282e58212b4e41a29963149619163f8a": {
     "views": []
    },
    "2a243c4b101142e0a9fc88b63b8ec47c": {
     "views": []
    },
    "2c61b4e1a47a4da395184f9421f9677f": {
     "views": []
    },
    "2f34faa560c644ecba59f79e1052a73e": {
     "views": []
    },
    "2f42cbe5d3b64c168137f71fb123653f": {
     "views": []
    },
    "350895d241794f40ac32178f5882badc": {
     "views": []
    },
    "37a4c1cc7571430b99588f3840f5d4ed": {
     "views": []
    },
    "3aa62aa532d94743a7cf8a95872b5f2d": {
     "views": []
    },
    "3bd508a6050e4ef89175cbea8e83c67a": {
     "views": []
    },
    "3e23bc8a4a5c4c22988480925a468cfe": {
     "views": [
      {
       "cell_index": 8
      }
     ]
    },
    "4325bcd8ab2346a7a78fde6a1faff5e4": {
     "views": []
    },
    "483d7f9853b246f2b20bf6e4a0d066f0": {
     "views": [
      {
       "cell_index": 8
      }
     ]
    },
    "4ab58ab5baef449cb5dd5a1a99143bd8": {
     "views": []
    },
    "576df7e33f2242efa5fc3ec286dc900c": {
     "views": []
    },
    "590d8a75c8834b35a55af1caa146a77f": {
     "views": []
    },
    "5f6336f07e8f458bad31a026b8f7c45a": {
     "views": []
    },
    "619ad0e6324d4b4a876a17944d0bb0e7": {
     "views": []
    },
    "66a68f6910054801b5b49a56b302fa50": {
     "views": [
      {
       "cell_index": 6
      }
     ]
    },
    "688f63fb3647452caa8e9404e0ebd2ac": {
     "views": []
    },
    "69cf3f0d6b93455ba33a735a57fa1d01": {
     "views": [
      {
       "cell_index": 8
      }
     ]
    },
    "6c6be566684c40f5a531a55ba0ad047c": {
     "views": []
    },
    "6d5aa9a2bf6e49e1925d36d5323d256e": {
     "views": [
      {
       "cell_index": 8
      }
     ]
    },
    "7172a4ab844a474eb0adb3421f54da9e": {
     "views": []
    },
    "78b602b2cfcd4520b96aa40b00acac40": {
     "views": []
    },
    "81ec2c52ec314b368b24f72602434e1a": {
     "views": []
    },
    "83470d6c0f0040efbf354d69e18ac999": {
     "views": []
    },
    "87197ddf6a414ead941536402830a6c8": {
     "views": []
    },
    "8877b5e3893c4216aed2751fbbd19672": {
     "views": []
    },
    "90d209d51d104a79b63f9bc84516b75e": {
     "views": []
    },
    "9345b7e6c3db45da8a651d44de77b1b7": {
     "views": []
    },
    "9359c393ba89471bb24659808b7204e4": {
     "views": []
    },
    "93ec7c67238b42f8988d052a09ba6c63": {
     "views": []
    },
    "9fe63722e9ba4f2683ba8287c2aa7e97": {
     "views": []
    },
    "a1c9468405174d3caf79bdfba2db7187": {
     "views": []
    },
    "a938e17138264d849c886178c0d3fb4e": {
     "views": [
      {
       "cell_index": 8
      }
     ]
    },
    "aab9e56a89ef4938bd1780e36d0d5b2f": {
     "views": []
    },
    "b6c108b89cc94e31b469320fbb83b552": {
     "views": []
    },
    "b8e4e754ac2f496499736b72b1e42cbb": {
     "views": []
    },
    "bf3e4c8d075f45a9a689b2a60296810f": {
     "views": []
    },
    "c03e6f59d6344012a456ce2049e57c5f": {
     "views": []
    },
    "c0a065ae5738491db75d116d45b7b2f5": {
     "views": []
    },
    "c192f58af7764c1a8d86a51512125f6f": {
     "views": [
      {
       "cell_index": 8
      }
     ]
    },
    "cdace9b6d69e464497269448f6b1a57d": {
     "views": []
    },
    "ce19257e56be48df9b572989e12b1dcf": {
     "views": []
    },
    "ceee53eac1a64692806fde7a8051d518": {
     "views": []
    },
    "d0f76743bd7943b1ab1edd2f19a1efe7": {
     "views": []
    },
    "d24e4a66204e49a985de981adc58813e": {
     "views": []
    },
    "d55c4009219e4be2b0ad9454d8d139e3": {
     "views": []
    },
    "d8c01ed0d0f84bc8a41f8e72ddd407e1": {
     "views": []
    },
    "da6ca3d1beff411da9110781aaa43232": {
     "views": []
    },
    "e9a0e10ab9e346bd8ca6443bdf2d8ba3": {
     "views": []
    },
    "ec8f00eb3f444b149ee959ace4d04ccb": {
     "views": []
    },
    "ef1f767115ad4ccc80f738bd8dbdeac8": {
     "views": []
    },
    "f6b02c2bca274617afda20beb9a00767": {
     "views": []
    },
    "f8145f9c7b8b481b919f09117119f0f0": {
     "views": []
    },
    "fdf3fdbbf597421c911dfb3b76e564af": {
     "views": []
    }
   },
   "version": "1.1.2"
  }
 },
 "nbformat": 4,
 "nbformat_minor": 2
}
