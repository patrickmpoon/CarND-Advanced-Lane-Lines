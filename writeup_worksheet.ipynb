{
 "cells": [
  {
   "cell_type": "code",
   "execution_count": null,
   "metadata": {
    "collapsed": true,
    "deletable": true,
    "editable": true
   },
   "outputs": [],
   "source": [
    "%matplotlib inline\n"
   ]
  },
  {
   "cell_type": "markdown",
   "metadata": {
    "deletable": true,
    "editable": true
   },
   "source": [
    "## Writeup Template\n",
    "### You can use this file as a template for your writeup if you want to submit it as a markdown file, but feel free to use some other method and submit a pdf if you prefer.\n",
    "\n",
    "---\n",
    "\n",
    "**Advanced Lane Finding Project**\n",
    "\n",
    "The goals / steps of this project are the following:\n",
    "\n",
    "* Compute the camera calibration matrix and distortion coefficients given a set of chessboard images.\n",
    "* Apply a distortion correction to raw images.\n",
    "* Use color transforms, gradients, etc., to create a thresholded binary image.\n",
    "* Apply a perspective transform to rectify binary image (\"birds-eye view\").\n",
    "* Detect lane pixels and fit to find the lane boundary.\n",
    "* Determine the curvature of the lane and vehicle position with respect to center.\n",
    "* Warp the detected lane boundaries back onto the original image.\n",
    "* Output visual display of the lane boundaries and numerical estimation of lane curvature and vehicle position.\n",
    "\n",
    "[//]: # (Image References)\n",
    "\n",
    "[image1]: ./examples/undistort_output.png \"Undistorted\"\n",
    "[image2]: ./test_images/test1.jpg \"Road Transformed\"\n",
    "[image3]: ./examples/binary_combo_example.jpg \"Binary Example\"\n",
    "[image4]: ./examples/warped_straight_lines.jpg \"Warp Example\"\n",
    "[image5]: ./examples/color_fit_lines.jpg \"Fit Visual\"\n",
    "[image6]: ./examples/example_output.jpg \"Output\"\n",
    "[video1]: ./project_video.mp4 \"Video\"\n",
    "\n",
    "## [Rubric](https://review.udacity.com/#!/rubrics/571/view) Points\n",
    "### Here I will consider the rubric points individually and describe how I addressed each point in my implementation.  \n",
    "\n",
    "---\n",
    "### Writeup / README\n",
    "\n",
    "#### 1. Provide a Writeup / README that includes all the rubric points and how you addressed each one.  You can submit your writeup as markdown or pdf.  [Here](https://github.com/udacity/CarND-Advanced-Lane-Lines/blob/master/writeup_template.md) is a template writeup for this project you can use as a guide and a starting point.  \n",
    "\n",
    "You're reading it!"
   ]
  },
  {
   "cell_type": "markdown",
   "metadata": {
    "deletable": true,
    "editable": true
   },
   "source": [
    "### Camera Calibration\n",
    "\n",
    "#### 1. Briefly state how you computed the camera matrix and distortion coefficients. Provide an example of a distortion corrected calibration image.\n",
    "\n",
    "The code for this step is contained in the first code cell of the IPython notebook located in \"./examples/example.ipynb\" (or in lines # through # of the file called `some_file.py`).  \n",
    "\n",
    "I start by preparing \"object points\", which will be the (x, y, z) coordinates of the chessboard corners in the world. Here I am assuming the chessboard is fixed on the (x, y) plane at z=0, such that the object points are the same for each calibration image.  Thus, `objp` is just a replicated array of coordinates, and `objpoints` will be appended with a copy of it every time I successfully detect all chessboard corners in a test image.  `imgpoints` will be appended with the (x, y) pixel position of each of the corners in the image plane with each successful chessboard detection.  \n",
    "\n",
    "I then used the output `objpoints` and `imgpoints` to compute the camera calibration and distortion coefficients using the `cv2.calibrateCamera()` function.  I applied this distortion correction to the test image using the `cv2.undistort()` function and obtained this result: \n",
    "\n",
    "[//]: # (Image References)\n",
    "\n",
    "[image1]: ./examples/undistort_output.png \"Undistorted\"\n",
    "\n",
    "![alt text][image1]"
   ]
  },
  {
   "cell_type": "code",
   "execution_count": null,
   "metadata": {
    "collapsed": false,
    "deletable": true,
    "editable": true
   },
   "outputs": [],
   "source": [
    "# %load calibrate_camera.py\n",
    "import cv2\n",
    "from glob import iglob\n",
    "import matplotlib.pyplot as plt\n",
    "import numpy as np\n",
    "import pickle\n",
    "\n",
    "\n",
    "def get_corners(image, pts_per_row, pts_per_column, flags=None):\n",
    "    return cv2.findChessboardCorners(image, (pts_per_row, pts_per_column), flags)\n",
    "\n",
    "\n",
    "def draw_image_corners(image, pts_per_row, pts_per_column, corners, ret):\n",
    "    cornered = cv2.drawChessboardCorners(image, (pts_per_row, pts_per_column), corners, ret)\n",
    "    return cornered\n",
    "\n",
    "\n",
    "def get_calibration_pts(img_files_regex, pts_per_row, pts_per_column, num_channels):\n",
    "    # prepare object points, like (0,0,0), (1,0,0), (2,0,0) ....,(6,5,0)\n",
    "    objp = np.zeros((pts_per_column * pts_per_row, 3), np.float32)\n",
    "    objp[:,:2] = np.mgrid[0:pts_per_row, 0:pts_per_column].T.reshape(-1, 2)\n",
    "\n",
    "    # Arrays to store object points and image points from all the images.\n",
    "    objpoints = [] # 3d points in real world space\n",
    "    imgpoints = [] # 2d points in image plane.\n",
    "\n",
    "    # Make a list of calibration images\n",
    "    images = iglob(img_files_regex)\n",
    "\n",
    "    # Step through the list and search for chessboard corners\n",
    "    for idx, filename in enumerate(images, start=1):\n",
    "        img = cv2.imread(filename)\n",
    "        gray = cv2.cvtColor(img, cv2.COLOR_BGR2GRAY)\n",
    "\n",
    "        # Find the chessboard corners\n",
    "        ret, corners = get_corners(gray, pts_per_row, pts_per_column)\n",
    "\n",
    "        # If found, add object points, image points\n",
    "        if ret == True:\n",
    "            objpoints.append(objp)\n",
    "            imgpoints.append(corners)\n",
    "\n",
    "            # Draw and display the corners\n",
    "            img = draw_image_corners(img, pts_per_row, pts_per_column, corners, ret)\n",
    "            write_name = './test_out/corners_found'+str(idx)+'.jpg'\n",
    "            cv2.imwrite(write_name, img)\n",
    "\n",
    "    return objpoints, imgpoints\n",
    "\n",
    "\n",
    "def undistort_image(image, matrix, distortion_coefficients):\n",
    "    return cv2.undistort(image, matrix, distortion_coefficients, None, matrix)\n",
    "\n",
    "\n",
    "if __name__ == '__main__':\n",
    "    img_files_regex = './camera_cal/calibration*.jpg'\n",
    "    pts_per_row = 9\n",
    "    pts_per_column = 6\n",
    "    num_channels = 3\n",
    "\n",
    "    objpoints, imgpoints = get_calibration_pts(img_files_regex, pts_per_row, pts_per_column, num_channels)\n",
    "\n",
    "    # Test undistortion on an image\n",
    "    img = cv2.imread('./camera_cal/calibration3.jpg')\n",
    "    img = cv2.cvtColor(img, cv2.COLOR_BGR2RGB)\n",
    "    img_size = (img.shape[1], img.shape[0])\n",
    "\n",
    "    # Do camera calibration given object points and image points\n",
    "    ret, matrix, distortion_coefficients, rvecs, tvecs = cv2.calibrateCamera(objpoints, imgpoints, img_size, None, None)\n",
    "\n",
    "    # Save the camera calibration results\n",
    "    dist_pickle = {}\n",
    "    dist_pickle[\"mtx\"] = matrix\n",
    "    dist_pickle[\"dist\"] = distortion_coefficients\n",
    "    pickle.dump( dist_pickle, open( \"./output_images/calibration.p\", \"wb\" ) )\n",
    "\n",
    "    # Undistort image and save results to file\n",
    "    undistorted = undistort_image(img, matrix, distortion_coefficients)\n",
    "    undistorted_gray = cv2.cvtColor(undistorted, cv2.COLOR_BGR2GRAY)\n",
    "    ret, corners = get_corners(undistorted_gray, pts_per_row, pts_per_column)\n",
    "    undistorted = draw_image_corners(undistorted, pts_per_row, pts_per_column, corners, ret)\n",
    "    cv2.imwrite('test_out/test_undist.jpg', undistorted)\n",
    "\n",
    "    # Visualize distortion correction\n",
    "    f, (ax1, ax2) = plt.subplots(1, 2, figsize=(20,10))\n",
    "    ax1.imshow(img)\n",
    "    ax1.set_title('Original Image', fontsize=30)\n",
    "    ax2.imshow(undistorted)\n",
    "    ax2.set_title('Undistorted Image', fontsize=30)\n"
   ]
  },
  {
   "cell_type": "markdown",
   "metadata": {},
   "source": [
    "### Pipeline (single images)\n",
    "\n",
    "#### 1. Provide an example of a distortion-corrected image.\n",
    "To demonstrate this step, I will describe how I apply the distortion correction to one of the test images like this one:\n",
    "![alt text][image2]"
   ]
  },
  {
   "cell_type": "markdown",
   "metadata": {},
   "source": [
    "#### 2. Describe how (and identify where in your code) you used color transforms, gradients or other methods to create a thresholded binary image.  Provide an example of a binary image result.\n",
    "I used a combination of color and gradient thresholds to generate a binary image (thresholding steps at lines # through # in `another_file.py`).  Here's an example of my output for this step.  (note: this is not actually from one of the test images)\n",
    "\n",
    "![alt text][image3]"
   ]
  },
  {
   "cell_type": "code",
   "execution_count": null,
   "metadata": {
    "collapsed": false,
    "deletable": true,
    "editable": true
   },
   "outputs": [],
   "source": [
    "# %load lanes.py\n",
    "import cv2\n",
    "import matplotlib.pyplot as plt\n",
    "import numpy as np\n",
    "from ipywidgets import interact\n",
    "\n",
    "\n",
    "# Define a function that takes an image, gradient orientation,\n",
    "# and threshold min / max values.\n",
    "def abs_sobel_thresh(img, orient='x', thresh_min=0, thresh_max=255):\n",
    "    # Convert to grayscale\n",
    "    gray = cv2.cvtColor(img, cv2.COLOR_RGB2GRAY)\n",
    "    # Apply x or y gradient with the OpenCV Sobel() function\n",
    "    # and take the absolute value\n",
    "    if orient == 'x':\n",
    "        abs_sobel = np.absolute(cv2.Sobel(gray, cv2.CV_64F, 1, 0))\n",
    "    if orient == 'y':\n",
    "        abs_sobel = np.absolute(cv2.Sobel(gray, cv2.CV_64F, 0, 1))\n",
    "    # Rescale back to 8 bit integer\n",
    "    scaled_sobel = np.uint8(255 * abs_sobel / np.max(abs_sobel))\n",
    "    # Create a copy and apply the threshold\n",
    "    binary_output = np.zeros_like(scaled_sobel)\n",
    "    # Here I'm using inclusive (>=, <=) thresholds, but exclusive is ok too\n",
    "    binary_output[(scaled_sobel >= thresh_min) & (scaled_sobel <= thresh_max)] = 1\n",
    "\n",
    "    # Return the result\n",
    "    return binary_output\n",
    "\n",
    "\n",
    "# Define a function to return the magnitude of the gradient\n",
    "# for a given sobel kernel size and threshold values\n",
    "def mag_thresh(img, sobel_kernel=3, mag_thresh=(0, 255)):\n",
    "    # Convert to grayscale\n",
    "    gray = cv2.cvtColor(img, cv2.COLOR_RGB2GRAY)\n",
    "    # Take both Sobel x and y gradients\n",
    "    sobelx = cv2.Sobel(gray, cv2.CV_64F, 1, 0, ksize=sobel_kernel)\n",
    "    sobely = cv2.Sobel(gray, cv2.CV_64F, 0, 1, ksize=sobel_kernel)\n",
    "    # Calculate the gradient magnitude\n",
    "    gradmag = np.sqrt(sobelx ** 2 + sobely ** 2)\n",
    "    # Rescale to 8 bit\n",
    "    scale_factor = np.max(gradmag) / 255\n",
    "    gradmag = (gradmag / scale_factor).astype(np.uint8)\n",
    "    # Create a binary image of ones where threshold is met, zeros otherwise\n",
    "    binary_output = np.zeros_like(gradmag)\n",
    "    binary_output[(gradmag >= mag_thresh[0]) & (gradmag <= mag_thresh[1])] = 1\n",
    "\n",
    "    # Return the binary image\n",
    "    return binary_output\n",
    "\n",
    "\n",
    "def test_sobel_thresh(min=0, max=0, orient='x'):\n",
    "    threshed = abs_sobel_thresh(img, orient, min, max)\n",
    "    print('min: {}  max: {}'.format(min, max))\n",
    "    #     plt.imshow(threshed, cmap='gray', interpolation='nearest', aspect='auto')\n",
    "    # Plot the result\n",
    "    f, (ax1, ax2) = plt.subplots(1, 2, figsize=(24, 9))\n",
    "    f.tight_layout()\n",
    "    ax1.imshow(img)\n",
    "    ax1.set_title('Original Image', fontsize=50)\n",
    "    ax2.imshow(threshed, cmap='gray')\n",
    "    ax2.set_title('Thresholded Gradient [Sobel]', fontsize=50)\n",
    "    plt.subplots_adjust(left=0., right=1, top=0.9, bottom=0.)\n",
    "\n",
    "\n",
    "def set_orient(p):\n",
    "    global a, b, o\n",
    "    o = p\n",
    "    test_sobel_thresh(a, b, o)\n",
    "\n",
    "\n",
    "def set_min(n):\n",
    "    global a, b, o\n",
    "    a = n\n",
    "    test_sobel_thresh(a, b, o)\n",
    "\n",
    "\n",
    "def set_max(x):\n",
    "    global a, b, o\n",
    "    b = x\n",
    "    test_sobel_thresh(a, b, o)\n",
    "\n",
    "\n",
    "img = cv2.cvtColor(cv2.imread('./test_images/test1.jpg'), cv2.COLOR_BGR2RGB)\n",
    "\n",
    "a = None\n",
    "b = None\n",
    "o = 'x'\n",
    "\n",
    "interact(set_orient, p='x')\n",
    "interact(set_min, n=(0, 255))\n",
    "interact(set_max, x=(0, 255))\n",
    "\n",
    "\n"
   ]
  },
  {
   "cell_type": "markdown",
   "metadata": {
    "deletable": true,
    "editable": true
   },
   "source": [
    "#### 3. Describe how (and identify where in your code) you performed a perspective transform and provide an example of a transformed image.\n",
    "\n",
    "The code for my perspective transform includes a function called `warper()`, which appears in lines 1 through 8 in the file `example.py` (output_images/examples/example.py) (or, for example, in the 3rd code cell of the IPython notebook).  The `warper()` function takes as inputs an image (`img`), as well as source (`src`) and destination (`dst`) points.  I chose the hardcode the source and destination points in the following manner:\n",
    "\n",
    "```\n",
    "src = np.float32(\n",
    "    [[(img_size[0] / 2) - 55, img_size[1] / 2 + 100],\n",
    "    [((img_size[0] / 6) - 10), img_size[1]],\n",
    "    [(img_size[0] * 5 / 6) + 60, img_size[1]],\n",
    "    [(img_size[0] / 2 + 55), img_size[1] / 2 + 100]])\n",
    "dst = np.float32(\n",
    "    [[(img_size[0] / 4), 0],\n",
    "    [(img_size[0] / 4), img_size[1]],\n",
    "    [(img_size[0] * 3 / 4), img_size[1]],\n",
    "    [(img_size[0] * 3 / 4), 0]])\n",
    "\n",
    "```\n",
    "This resulted in the following source and destination points:\n",
    "\n",
    "| Source        | Destination   | \n",
    "|:-------------:|:-------------:| \n",
    "| 585, 460      | 320, 0        | \n",
    "| 203, 720      | 320, 720      |\n",
    "| 1127, 720     | 960, 720      |\n",
    "| 695, 460      | 960, 0        |\n",
    "\n",
    "I verified that my perspective transform was working as expected by drawing the `src` and `dst` points onto a test image and its warped counterpart to verify that the lines appear parallel in the warped image.\n",
    "\n",
    "![alt text][image4]\n",
    "\n",
    "#### 4. Describe how (and identify where in your code) you identified lane-line pixels and fit their positions with a polynomial?\n",
    "\n",
    "Then I did some other stuff and fit my lane lines with a 2nd order polynomial kinda like this:\n",
    "\n",
    "![alt text][image5]\n",
    "\n",
    "#### 5. Describe how (and identify where in your code) you calculated the radius of curvature of the lane and the position of the vehicle with respect to center.\n",
    "\n",
    "I did this in lines # through # in my code in `my_other_file.py`\n",
    "\n",
    "#### 6. Provide an example image of your result plotted back down onto the road such that the lane area is identified clearly.\n",
    "\n",
    "I implemented this step in lines # through # in my code in `yet_another_file.py` in the function `map_lane()`.  Here is an example of my result on a test image:\n",
    "\n",
    "![alt text][image6]\n",
    "\n",
    "---"
   ]
  },
  {
   "cell_type": "markdown",
   "metadata": {
    "deletable": true,
    "editable": true
   },
   "source": [
    "### Pipeline (video)\n",
    "\n",
    "#### 1. Provide a link to your final video output.  Your pipeline should perform reasonably well on the entire project video (wobbly lines are ok but no catastrophic failures that would cause the car to drive off the road!).\n",
    "\n",
    "Here's a [link to my video result](./project_video.mp4)\n",
    "\n",
    "---"
   ]
  },
  {
   "cell_type": "markdown",
   "metadata": {
    "deletable": true,
    "editable": true
   },
   "source": [
    "### Discussion\n",
    "\n",
    "#### 1. Briefly discuss any problems / issues you faced in your implementation of this project.  Where will your pipeline likely fail?  What could you do to make it more robust?\n",
    "\n",
    "Here I'll talk about the approach I took, what techniques I used, what worked and why, where the pipeline might fail and how I might improve it if I were going to pursue this project further.  "
   ]
  }
 ],
 "metadata": {
  "kernelspec": {
   "display_name": "Python 3",
   "language": "python",
   "name": "python3"
  },
  "language_info": {
   "codemirror_mode": {
    "name": "ipython",
    "version": 3
   },
   "file_extension": ".py",
   "mimetype": "text/x-python",
   "name": "python",
   "nbconvert_exporter": "python",
   "pygments_lexer": "ipython3",
   "version": "3.5.2"
  },
  "widgets": {
   "state": {
    "0023e77143d447b081192288887aa9bc": {
     "views": []
    },
    "01385c760be241838df9f60137739e5a": {
     "views": []
    },
    "018cf93801da4c56a105ba8ac5e63a55": {
     "views": [
      {
       "cell_index": 8
      }
     ]
    },
    "021acf12534b4d2994075ba0382edbae": {
     "views": []
    },
    "02525fa6ad2f46e59906fec19c9b491a": {
     "views": []
    },
    "05b73e8f05a7456eaf51536b8a7b19ce": {
     "views": []
    },
    "061f8ee0ee78446bb54dabb0ba7578a4": {
     "views": []
    },
    "06b0189c63b14f6181f2c2d2da21e006": {
     "views": []
    },
    "079b6f75ced04c45b25f39991de5b76c": {
     "views": []
    },
    "0903733629e140faa06df6a480c7da36": {
     "views": []
    },
    "092ffbe5fde04cdeb8673e6622bb6b67": {
     "views": []
    },
    "0a05275cb1d64b7c8207c57ed1616e19": {
     "views": [
      {
       "cell_index": 8
      }
     ]
    },
    "0ab70211f1d64d47af8f9151a2b23e98": {
     "views": []
    },
    "0b1a00ecbcaf4f5088d4beef40062afb": {
     "views": []
    },
    "0c2a133bec1d4fd0816265300f02584c": {
     "views": []
    },
    "0c3b9437723b4bada9658818ed5aae2b": {
     "views": []
    },
    "0e14b8e2c53e40b3847d797bf9ca25a4": {
     "views": []
    },
    "0e58c9ddcb3d46f1a35e1ab304ef9bce": {
     "views": []
    },
    "0f826d573c74435180a5ce9073a0873e": {
     "views": []
    },
    "10651cb6d9a34c308138e96c0dae2e9c": {
     "views": []
    },
    "106bf1da62464dde938755bfc33ce860": {
     "views": []
    },
    "10ab8c840cfe49f98976673b210106ba": {
     "views": []
    },
    "1101fde824c54003b73309a51f05cfcf": {
     "views": []
    },
    "11ff7cd3d3664db6aa9724c22ad2913b": {
     "views": []
    },
    "1238898c2ac64cf5a137a78ee8cb9693": {
     "views": []
    },
    "1322081add594d0f90ac41d0798b8ff2": {
     "views": []
    },
    "13396724d15649df80493eeb5f6876ba": {
     "views": []
    },
    "1387920659624c16b72f2b0b95a40721": {
     "views": []
    },
    "13f6cb14980c4ef18db630762b3f6658": {
     "views": []
    },
    "1501c187d30a40dbba86429c7962e30c": {
     "views": []
    },
    "155a6fc19f1846e9b596eb4f1a39ee02": {
     "views": [
      {
       "cell_index": 8
      }
     ]
    },
    "15dd4387ddf94757bbbf5e3f646a0243": {
     "views": []
    },
    "16ecf715539c4479a7aad79388edbfc7": {
     "views": []
    },
    "1799a07c6fab45fb983c7dfd537dcc6e": {
     "views": [
      {
       "cell_index": 8
      }
     ]
    },
    "1a0c533b3ca04b83872851b0795569fe": {
     "views": []
    },
    "1a101c946dea4b8e9d32ad067ae41336": {
     "views": []
    },
    "1a63bfcdcedc434085de982a58a2c583": {
     "views": []
    },
    "1b225995941e4f049774ca95fdadb071": {
     "views": []
    },
    "1b5c9461a6534d0a8c8b2e9f0e7fea83": {
     "views": []
    },
    "1ba0358b7bd74542910d9b2463ef8b6e": {
     "views": []
    },
    "1bd27a5878ea4e92b4f69a5f343fe528": {
     "views": []
    },
    "1bd7d415cf734652a232a74bfb302530": {
     "views": []
    },
    "1bf87dafcdf7467abae1698602c71926": {
     "views": []
    },
    "1d35c657151646e1bad8376f110da1ec": {
     "views": []
    },
    "1e9a5b2b2ce1466f8dfc97230c0f3bf4": {
     "views": []
    },
    "1ed09dba827d4846a973573e2705e46c": {
     "views": []
    },
    "1edd82a9dfa24ab1a85f10307fc0b0ef": {
     "views": []
    },
    "20bae2f679e34c4289ddce9f3f690e05": {
     "views": []
    },
    "20ef3c4953a348eeaef98bb8f7e7f6c6": {
     "views": []
    },
    "21fa8b9bbf64422b88502d32273de9a8": {
     "views": []
    },
    "22aa7e554d3244fc9007f1fd5bcb47ef": {
     "views": []
    },
    "22b3f20f0816424c9561091008dae891": {
     "views": []
    },
    "232b733cb45540a081e7408daa0ce31d": {
     "views": []
    },
    "240d53e8ab744d85a81c66749523fbef": {
     "views": []
    },
    "28219a54bf774036ad2f4be68a9b2473": {
     "views": []
    },
    "292371387b804b709e33c324b8c9525f": {
     "views": []
    },
    "29d70e7f885e45fb969548e0a9ab3bae": {
     "views": []
    },
    "29ecb90e28b043bdbd506ee26b30571f": {
     "views": []
    },
    "2b4b982f48974bddbfe1f76dbd19825f": {
     "views": [
      {
       "cell_index": 8
      }
     ]
    },
    "2d0245a9625d4de7adefb00b6e2d9a7e": {
     "views": []
    },
    "2d24cb0bda404e8dbe044fe54e781fdf": {
     "views": []
    },
    "2d5bcb2929fc4ae6832ca52378b0450b": {
     "views": []
    },
    "2d642bf2fc884308818cdd921251f82d": {
     "views": []
    },
    "2d7372e708e843bd96584f4f510a2870": {
     "views": []
    },
    "2f3385da3a744c3d8ecee4a74c6705f6": {
     "views": [
      {
       "cell_index": 8
      }
     ]
    },
    "304de9daaa02423a91636095574bbd8b": {
     "views": []
    },
    "30b83951bea14b0d835c9c4825599911": {
     "views": []
    },
    "32010fe79f994e6aae370b2f227982e6": {
     "views": []
    },
    "3365bc09523045479c02c31013a09bdb": {
     "views": []
    },
    "3390beb6822f46e7be1163887aecba66": {
     "views": []
    },
    "33a54168959842908bafc330a93d9326": {
     "views": []
    },
    "35ff0124b5a8429788bc4ba167db6eef": {
     "views": []
    },
    "361b12f023d946d8ae38a9fad60fc0f9": {
     "views": []
    },
    "368d2aa91464480c92d6cdcfd38cac86": {
     "views": []
    },
    "3719ec4545684b90bcf6f36e76c7dc74": {
     "views": []
    },
    "3737dc2a81654553959c9ffba53e04af": {
     "views": []
    },
    "38c075b42d1243d29ef25f5724a383db": {
     "views": []
    },
    "3aec44e8e8d24c959641b81333ba2f63": {
     "views": []
    },
    "3b06e29c3e4a4eb89b091a34f73c53e0": {
     "views": []
    },
    "3b25eaeee4ac4a12ac2d62a4a418350c": {
     "views": []
    },
    "3b2f62a435ec4f57b967ac8068442255": {
     "views": []
    },
    "3b76fa4a05c8474c877f1e39b5b6b003": {
     "views": []
    },
    "3c4927661f454339acb05246a7c5ae1f": {
     "views": []
    },
    "3c8408e06e3941768dbf6611ff16c17b": {
     "views": []
    },
    "3c9eed39da71499c8c781518ac815b6c": {
     "views": []
    },
    "3eda90d8fec74d36a0e4d9b02b8d9a56": {
     "views": [
      {
       "cell_index": 8
      }
     ]
    },
    "3f463cbd3cc34c09943a8454ce665988": {
     "views": []
    },
    "3ff32a9729db4edd89a07fd2bc1d39b2": {
     "views": []
    },
    "400548a578854a80bd80ffb59d69a12c": {
     "views": []
    },
    "406ad75888ff4abca42da2e8e1f77ebe": {
     "views": []
    },
    "41ba21714000460090cc0c4ff35b9685": {
     "views": []
    },
    "43a3a83764d14d1b9cb890ea90a59dfe": {
     "views": []
    },
    "4431bca78c5d4632897303b3a8040450": {
     "views": []
    },
    "443986992d85405eab6e8b854c30d7b5": {
     "views": [
      {
       "cell_index": 8
      }
     ]
    },
    "448fc04b86de460fad7a48390ea470d6": {
     "views": []
    },
    "44b2145e313f4f5da23e85e5d799ba37": {
     "views": []
    },
    "454bad67efc3403b8ab0df64107d8fe8": {
     "views": []
    },
    "466f14ad2b1f4ccf89be0b63a75dc5bb": {
     "views": []
    },
    "48c85947d39e42658bc960b19b01443e": {
     "views": []
    },
    "48e7ede1dffc486a8478a9d9fe47c5d0": {
     "views": []
    },
    "491ade3aabbf4bbea02dd7259a25bcc6": {
     "views": []
    },
    "499698c9664c4f55804596ad2c69d90b": {
     "views": []
    },
    "4bcddf6b82ae4f25b9bade600d93e51a": {
     "views": []
    },
    "4dd7a6b1df0949afbd2e34887f981456": {
     "views": []
    },
    "4ea3b5716e41492fb1102e99ae4b0aff": {
     "views": []
    },
    "4efc93952c384118bc9900a5766a7cb4": {
     "views": []
    },
    "4f43e3dfa10f4ab487677037d2597f26": {
     "views": []
    },
    "4f979b8099514a0c916e3568ce557aa6": {
     "views": []
    },
    "5005d94e0b4f403f8691463a9f33fb9d": {
     "views": []
    },
    "502d6bd84b704741a0093b99d39dc64e": {
     "views": []
    },
    "503f387affa7475ea63352aee3864737": {
     "views": []
    },
    "50a2cfccb8ce4f0d875769e6eddfa16f": {
     "views": []
    },
    "515c1f25a9b043f185960f8d6c4b2431": {
     "views": []
    },
    "5192b3d12a584a6b93ca4ed65e797ed4": {
     "views": []
    },
    "52c8dcfa3690469390427ff7a87270ab": {
     "views": []
    },
    "52d4e5774ff64dbf883ed74d787b6b4c": {
     "views": []
    },
    "530f0dc119ac45419c7d432ea937493e": {
     "views": []
    },
    "53fe92dc42734457a972e18ad52a000f": {
     "views": []
    },
    "544bd67d51a54e0ab8f547ef0e09a628": {
     "views": []
    },
    "5454fdb6a18742a3b1109a137ea2cc2b": {
     "views": []
    },
    "54d7be6a24744b8dbc887d71731cc731": {
     "views": []
    },
    "55e61111e13f4e9e8d039ad959a2dee9": {
     "views": []
    },
    "5ab39e543ccd4653b1e8dea12c0fbde5": {
     "views": []
    },
    "5b52d0efd0844052a33697752e918c0b": {
     "views": []
    },
    "5bb267df11214b03a99956bcb5db339f": {
     "views": []
    },
    "5d9ec3b8890a486d9a91eb9259274902": {
     "views": []
    },
    "5e161287ccc141e7828b3d3f3c674e2f": {
     "views": []
    },
    "5fd3f6eae1fd464395914973921095f0": {
     "views": []
    },
    "606da202103240138402afd550c811e1": {
     "views": []
    },
    "60ef15bc3cda4c4bb6aa8969466ee014": {
     "views": []
    },
    "60fc1c0d6d5b49dea0716962ffe465cd": {
     "views": []
    },
    "6342c880e3434affb9986ecb59522073": {
     "views": []
    },
    "635d2d3751ba4e53bdca2dc4e9868c03": {
     "views": []
    },
    "637ef93568754e6f9153a83b20f452ee": {
     "views": [
      {
       "cell_index": 8
      }
     ]
    },
    "64877493b2e54faca82f3df16df8ace4": {
     "views": []
    },
    "64a549438c5144909f9df97437050175": {
     "views": []
    },
    "662ed2205b9e4cca893097e4b886e9b6": {
     "views": []
    },
    "6696353a8f814b24a062da41d8a2d9d3": {
     "views": [
      {
       "cell_index": 9
      }
     ]
    },
    "66afb2b738b34aa9aa1c20d864de9c31": {
     "views": []
    },
    "6890b9c9f374456d95d2a7b6311be616": {
     "views": []
    },
    "6901e365e5d142e9a58267f8299b9596": {
     "views": []
    },
    "695151e29df84e6da9227c461f2ae87e": {
     "views": []
    },
    "695aa6a185bd4d0b90714603bc3e3a0a": {
     "views": []
    },
    "69f659ff608840958621d1cf2aaddb87": {
     "views": [
      {
       "cell_index": 8
      }
     ]
    },
    "6a2f9f7af3ab486380f5edc9be70a45f": {
     "views": []
    },
    "6a9d435a00a84093a0aa47f485cddf2e": {
     "views": []
    },
    "6ada2632b4c246338bc5be209532eb99": {
     "views": []
    },
    "6f0fcbe8a8fd4bd7acd4716fc12e314d": {
     "views": []
    },
    "6f20d84c76954189884059bd3c6dc827": {
     "views": []
    },
    "70401bb56ace403f86f0c4e644d8a3d1": {
     "views": []
    },
    "70a46c76e86348c2aac773fbd4e97b64": {
     "views": []
    },
    "714b8bd898794ca7a3795636ff51a019": {
     "views": []
    },
    "720dda009b7d46d6bed93009efc4c8c0": {
     "views": []
    },
    "734caf992f6f4aa8b54c0c99c02b3b26": {
     "views": []
    },
    "7417a6add17f4c2ca451a7e3936e9b17": {
     "views": [
      {
       "cell_index": 8
      }
     ]
    },
    "78cf7ab5f92449e386fde25804f82ea9": {
     "views": []
    },
    "79be3fd31831477496a26c21ea09a9d0": {
     "views": []
    },
    "7d1311c2f7ef42f0a9a08e3a2056f1ae": {
     "views": []
    },
    "7d295b2d095345958c466f9e3ae03423": {
     "views": []
    },
    "7d425dd1eda142ee8ca38b82cff8391b": {
     "views": []
    },
    "7d59cc5463fa42638a163e8e608a4b9b": {
     "views": [
      {
       "cell_index": 8
      }
     ]
    },
    "7f7af904716d443b9e37db5dfd235ddf": {
     "views": []
    },
    "7fec0dcee7984f11a582d0ea142c0e48": {
     "views": []
    },
    "8019569d11c948c2886eb00b66fd94e4": {
     "views": []
    },
    "80b0bc807c404bdcaf4d1995c69939c6": {
     "views": [
      {
       "cell_index": 8
      }
     ]
    },
    "80e47b323342464ab38d52a5239b15d1": {
     "views": []
    },
    "8127c94e989c4680b88c5efb4dce42e5": {
     "views": []
    },
    "822e355442fb4927b4843799b1312be4": {
     "views": []
    },
    "826647fbae984b5d83a531c606782d41": {
     "views": []
    },
    "84ebfe727af343e9b3af66a8369ce32c": {
     "views": []
    },
    "8537eb69c1f84fd8b2c4ed25dbaecd2b": {
     "views": []
    },
    "87cc0621626342178e73d66f3c1c229a": {
     "views": [
      {
       "cell_index": 8
      }
     ]
    },
    "883198a9f5e244328046dbe3e8c7130c": {
     "views": []
    },
    "8accdabbea9b42728ffb980e4e84957d": {
     "views": []
    },
    "8ae5b88671184155948c73d6cad25939": {
     "views": []
    },
    "8b35fb37221d4aef876d67598c14520b": {
     "views": []
    },
    "8cd25a3771d745d69191fdd4b325d155": {
     "views": []
    },
    "8df3959a35934546bac3645b2b37a02d": {
     "views": []
    },
    "8e9ebd4b7da9447e90773f8f7a834805": {
     "views": []
    },
    "8feba01c5973427aad0e763758f8d27b": {
     "views": []
    },
    "90529fa48f4942508ee9866641580007": {
     "views": []
    },
    "9094599c613041e3b5fd4a5460b035f6": {
     "views": []
    },
    "912f10053c774080b2e7c7f8efbb8693": {
     "views": []
    },
    "91d0e7c59e3d4c0d936cdbec61368791": {
     "views": []
    },
    "926c4553aea8420d8e89df31dce36eb8": {
     "views": []
    },
    "92e39f88d66c4431b0b1d94e05d11993": {
     "views": []
    },
    "937a2a964b414c76a2bbc5bbb0bb6b75": {
     "views": []
    },
    "96d1434b45df4746b2338ce089e2f760": {
     "views": [
      {
       "cell_index": 8
      }
     ]
    },
    "96f83daedc5c4e1083aa29789b79815e": {
     "views": []
    },
    "97a42c3d0a3949469f847ca484cfd6fb": {
     "views": []
    },
    "97c3232bb32c47fd9bef5bcfaa45710c": {
     "views": [
      {
       "cell_index": 8
      }
     ]
    },
    "97c5d25d9d7245a9a95cfccc12302168": {
     "views": []
    },
    "97f65a7e688d42f9ada5ea728aae3cb6": {
     "views": []
    },
    "9a4d599270dd44c6a274120cfa7bdc67": {
     "views": [
      {
       "cell_index": 8
      }
     ]
    },
    "9aa03f84e69d4f23a329f51cf1e4592a": {
     "views": []
    },
    "9af3fc732cf14a049d017a76e4f350a5": {
     "views": []
    },
    "9afd2257618445f6ab2ef658d39cd152": {
     "views": []
    },
    "9caee0abaa3c4e35a011f31a47b4bac0": {
     "views": []
    },
    "9cd679c596b74c7ab824c3f22f7afbef": {
     "views": []
    },
    "9da7641855e44468a7265782427eea26": {
     "views": [
      {
       "cell_index": 8
      }
     ]
    },
    "9e4b8d36fe34402c87cf1f06d824ac25": {
     "views": []
    },
    "9e9fb17f3a494721a446e8475c4ea8ce": {
     "views": []
    },
    "9eb1add30c3b4f94ad1d6f60346bb068": {
     "views": []
    },
    "9f647ba02834436291b4d4a350d5cca9": {
     "views": []
    },
    "a001a9f9c4b84d34a288bfd4db2b9527": {
     "views": []
    },
    "a00ea807868844908054a519d2979d91": {
     "views": []
    },
    "a0bca62b5a7646d2bd47aa9e85d84d8c": {
     "views": []
    },
    "a0f318dd113a4e319f28a5088d5e1382": {
     "views": []
    },
    "a1256c5c6ec643319d573ee2b257c306": {
     "views": []
    },
    "a1d741282b8e40cdb8abb7d2ab82ba51": {
     "views": []
    },
    "a3dd2712b34f4aeabda696118a5b73c1": {
     "views": []
    },
    "a405dfdb04be44aa983acdf26baa20b8": {
     "views": []
    },
    "a466d8f4845149d7b33d35407d982303": {
     "views": []
    },
    "a655601a5e394a2ea56461edf8d20321": {
     "views": []
    },
    "a722cea1315c4735998f6bf46a856ffc": {
     "views": []
    },
    "a734f1b513a94f898e555010abec5762": {
     "views": []
    },
    "a8150a4b7a2f4a798d31f0378e2f6ce1": {
     "views": []
    },
    "a836d62aabab4b679ffc5168527298e6": {
     "views": []
    },
    "a8448957ff4940459795c5ca2ad71a1a": {
     "views": []
    },
    "a86dd43a53664384b95947dd9094bbed": {
     "views": []
    },
    "a8796a8a3630473c9cfb53c84d3aaf0b": {
     "views": []
    },
    "a8956ce0f0fc4f528232796b75f81bcd": {
     "views": [
      {
       "cell_index": 8
      }
     ]
    },
    "aab91db4f64b4275838848e3c50db745": {
     "views": []
    },
    "ac047a319635496ba875f34487a6d438": {
     "views": []
    },
    "ad6bd86b22d24fa8ac7be50259155709": {
     "views": []
    },
    "af0ab6a63d534f2b9ff56b2b0db4d1ed": {
     "views": []
    },
    "af1b0e8e659d4fd4a7460ca651854032": {
     "views": []
    },
    "afc3c17e49e4431ab7ee4b620fc3c55c": {
     "views": []
    },
    "b05e6fa7754240b68aa188c29b7fc147": {
     "views": []
    },
    "b0ecdce52c9c444597a69f4787e699a4": {
     "views": []
    },
    "b333f3f1378b4828a82ed5780c86880f": {
     "views": [
      {
       "cell_index": 8
      }
     ]
    },
    "b548f87a820f46f39498897337d3beae": {
     "views": []
    },
    "b7e85fb0b3ec41ff9b7bf20d786438bd": {
     "views": []
    },
    "b8fabc30f47a4dffbbd2f749677a05e7": {
     "views": []
    },
    "b9b5dcc818914f41bd2b98a610ca78bc": {
     "views": []
    },
    "bad3f1d059984f879893b35f2ee2f4e5": {
     "views": []
    },
    "bb118e358f984bd6a2907c50962e9404": {
     "views": []
    },
    "bc0b2c23c08147d4aeec19112d354e26": {
     "views": []
    },
    "bdb279e23a6d4256a88cb2d1d9fbf0ed": {
     "views": []
    },
    "be1230d0ad8c4a67b566201939121035": {
     "views": []
    },
    "bed58f41cc244875b7fc139336830db1": {
     "views": []
    },
    "beed64698483489980d746d64239dfd7": {
     "views": []
    },
    "bef52ebb2ce841caa85afa60a15ee2e1": {
     "views": []
    },
    "bfced60ff0414093a346232d31419d3b": {
     "views": []
    },
    "c0dc8307c7ad4e65a2c84f20e703261b": {
     "views": []
    },
    "c1e61a41c0e548d49b001991433515bc": {
     "views": [
      {
       "cell_index": 8
      }
     ]
    },
    "c213fad8f656437ea6a7aff544ca77eb": {
     "views": []
    },
    "c25cd6ac4186470db898844696ed8ecf": {
     "views": []
    },
    "c2d57ead5916407f8dc50055385f564a": {
     "views": []
    },
    "c36a17e58f9b4f6b8b5d16004306f0c8": {
     "views": []
    },
    "c5e8ff779f284b08aadc5ac9ec26e1ad": {
     "views": []
    },
    "c637f4ffbc8948db82ed60af268cc258": {
     "views": []
    },
    "c6ef5981ac154ea7b0598e74641c8d4d": {
     "views": []
    },
    "c739a77da29942409bab4188f512a803": {
     "views": []
    },
    "c7add395420a4fd0998bcb7ee752720c": {
     "views": []
    },
    "c7d0ec82ca9e47b5a65e105f319eb4b1": {
     "views": []
    },
    "c849f2b917e5417fa51c8f56c86d963f": {
     "views": []
    },
    "c8b38b0bba984ffe91bdc7e7c94bbeb1": {
     "views": []
    },
    "cc0979cf99b940df9a20afad55610ec6": {
     "views": []
    },
    "cc1407b9beb14950aef9e0643724d34e": {
     "views": []
    },
    "ccef2c232b334596acc0ea49927d34c6": {
     "views": []
    },
    "cf0bc243c63c4454a5efd19b60a98f36": {
     "views": [
      {
       "cell_index": 8
      }
     ]
    },
    "d0077fe350ea4bf1a26804e8c52c524a": {
     "views": []
    },
    "d01a22b5ff1a48b5b0e8746b9923f685": {
     "views": []
    },
    "d102c5da35c64f74b17ee5866d6b5ecb": {
     "views": []
    },
    "d1ea25775cf5441d929cb4cfe888d071": {
     "views": []
    },
    "d1f9472c3b08418a971b0c1df06665a2": {
     "views": []
    },
    "d33b5b61252a46518a32aacbebf13a54": {
     "views": []
    },
    "d5d73a6d9ce249f0a22c402d5bff48b4": {
     "views": []
    },
    "d62cde26224644d582ea7165698b2647": {
     "views": []
    },
    "d749ae9cb63f4dbba273331739b9d7b0": {
     "views": []
    },
    "d7b4b0c1a57445559f585881aead6a90": {
     "views": [
      {
       "cell_index": 8
      }
     ]
    },
    "d81a8200a0cc4dfb897663c62141fac0": {
     "views": []
    },
    "d843d4154a554231a5e79d4d25ee05d5": {
     "views": []
    },
    "daa825716a5847aea1c89992a056610a": {
     "views": []
    },
    "dba4b836cb4a4d56b0de33db19637470": {
     "views": []
    },
    "dbfa283873554b5cb15a9824617e1e40": {
     "views": []
    },
    "dc98dc4f047a4dedae7bba10aee0f8a3": {
     "views": []
    },
    "dd559e3a8afb48bbba197deed6ceab0a": {
     "views": []
    },
    "ddf373527c2a464e8ff415e0f7685307": {
     "views": []
    },
    "dee36d0427914f709852b19f19ce11d5": {
     "views": []
    },
    "df38e095ef9d45858af1f3ccd90d5283": {
     "views": []
    },
    "df43db23d42449d2af5a73caaf01ce7c": {
     "views": []
    },
    "e0029d661bb4453fa5ef53c1c0bbc858": {
     "views": []
    },
    "e1024596ea714e5d9f477400f3ed5453": {
     "views": []
    },
    "e200ea7fd23e416fb38de0d175c6d7ad": {
     "views": []
    },
    "e2835d73795c49f3b14627a0e2807738": {
     "views": []
    },
    "e2d6542595f8485fbb19e6becb2ddcd0": {
     "views": []
    },
    "e30489bc13624dd2b76a97f3c830f41c": {
     "views": [
      {
       "cell_index": 9
      }
     ]
    },
    "e34f3d3a57af4aeb919d87e90ceecd0d": {
     "views": []
    },
    "e40659f5a5d943c1830145bbf6cab6c2": {
     "views": []
    },
    "e451bfe6efa54336abe2faa5eaf25427": {
     "views": []
    },
    "e498a8807e4d4dac95418ad770600d05": {
     "views": []
    },
    "e4caf8c8d5a8483cbeb62ff0d22dc483": {
     "views": []
    },
    "e59b7d54c1d9480d8378fc878b7d5c74": {
     "views": []
    },
    "e63f47b28e35435fba3b72f7b2090f53": {
     "views": []
    },
    "e73a62d8f0174159afa748016af9c86a": {
     "views": [
      {
       "cell_index": 8
      }
     ]
    },
    "e7a37e3b5cbe400b90c4834ca7863935": {
     "views": []
    },
    "e8869694808c46d19e72660e6dbd077b": {
     "views": []
    },
    "e9fbf5a18ef54c0ba61e665783dc9846": {
     "views": [
      {
       "cell_index": 8
      }
     ]
    },
    "ea81809c056c4a408398da909f601f83": {
     "views": []
    },
    "ea9dc277fe634b179d009547d938edce": {
     "views": []
    },
    "eb8429032ee04c75bd37c926e8795403": {
     "views": []
    },
    "eb9de390853542b2b062164980ecc299": {
     "views": []
    },
    "ece7ddef29454941b9ceee7f903e89e5": {
     "views": []
    },
    "ed00114b13ed42d7916fced5ced2a418": {
     "views": []
    },
    "ed74789943b0408db3355fa2b38a5fea": {
     "views": []
    },
    "eef05a4615da438494f3e54069decb4f": {
     "views": []
    },
    "efdf17358d1f4c5ba0fb1759e3ac52e0": {
     "views": []
    },
    "f038cbb9f9ad4fe0a1a5a0faf53d3e6b": {
     "views": []
    },
    "f0d9f54db52b473c9cc95e730d9e0684": {
     "views": []
    },
    "f24c0c668dd845e29b6634e711c9969e": {
     "views": []
    },
    "f31839a0cdae4ce6bcd8edf6ed40b8a4": {
     "views": []
    },
    "f364ce5bf7e24fdb885c5f650d5672df": {
     "views": []
    },
    "f428377d775845c49fc88ff295e00372": {
     "views": []
    },
    "f4583ea5828c4a22a377318c3060b1ce": {
     "views": []
    },
    "f4a6b30450764ab7869d2c1e86190f17": {
     "views": []
    },
    "f522a0f46e4e4c3fa67c443e65a06108": {
     "views": []
    },
    "f6f3dfeced6544a893c52ee5201429a7": {
     "views": []
    },
    "f92e132e180a4b4298f49675c8047b0f": {
     "views": []
    },
    "f9a4ce10f48a4a008305d87edde8b8a4": {
     "views": []
    },
    "faad6f91a2a240a082a8e4a00e90d9c0": {
     "views": []
    },
    "fad6ca02e7404d988fb8e827bb7e6084": {
     "views": [
      {
       "cell_index": 8
      }
     ]
    },
    "fb4670cadf294abba9799ee9cd1a77c1": {
     "views": []
    },
    "fb6201d520ab42d59f98e684c88578ec": {
     "views": []
    },
    "fb6b4f486bd44f0dac3fa954d0dc2aa7": {
     "views": []
    },
    "fcbfbbd521f44871a74a0a62de116aaf": {
     "views": []
    },
    "fdb7dba78da347af90f8264ba2433d33": {
     "views": []
    },
    "ff14d261ceed465384d44983679dfea2": {
     "views": []
    },
    "ff17916522a14c9ab6e98b368a516fd4": {
     "views": []
    },
    "ff3ccfeb835b4a87bb793d9e52571caa": {
     "views": []
    },
    "ffb2cca76e8b49e896f425f881e4e9e4": {
     "views": []
    }
   },
   "version": "1.1.2"
  }
 },
 "nbformat": 4,
 "nbformat_minor": 2
}
